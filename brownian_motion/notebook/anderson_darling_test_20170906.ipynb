{
 "cells": [
  {
   "cell_type": "markdown",
   "metadata": {},
   "source": [
    "# brown motion を確認するための正規分布 であるかの検定\n",
    "アンダーソン　ダーリング検定を用いる\n",
    "\n",
    "方法\n",
    "統計量 $A^2=-n-S $\n",
    "\n",
    "nは標本数、$X_{(i)}$は標本を小さい順に並び替えたもの\n",
    "\n",
    "$$S=\\sum_{i=1}^n \\frac{2i-1}{n}\\bigl\\{\\log(F(X_{(i)}))+\\log(1-F(X_{(n+1-i)}))\\bigr\\}$$\n",
    "\n",
    "この統計量とCV値で比較して検定を行う。\n",
    "\n",
    "有意水準　CV値\n",
    "\n",
    "$15\\% \\cdots 1.610$\n",
    "\n",
    "$10\\% \\cdots 1.933$\n",
    "\n",
    "$5\\% \\cdots 2.492$\n",
    "\n",
    "$2.5\\% \\cdots 3.070$\n",
    "\n",
    "$1.0\\% \\cdots 3.857$"
   ]
  },
  {
   "cell_type": "code",
   "execution_count": 50,
   "metadata": {
    "collapsed": true
   },
   "outputs": [],
   "source": [
    "import sys\n",
    "sys.path.append(\"../src\") \n",
    "sys.path.append(\"../data\") \n",
    "import SDE_class as sde\n",
    "import importlib\n",
    "importlib.reload(sde)\n",
    "import numpy as np\n",
    "from matplotlib import pyplot as plt\n",
    "%matplotlib inline\n",
    "import util as util\n",
    "importlib.reload(util)\n",
    "import math\n",
    "from scipy.stats import norm"
   ]
  },
  {
   "cell_type": "code",
   "execution_count": 81,
   "metadata": {
    "collapsed": true
   },
   "outputs": [],
   "source": [
    "term=1\n",
    "step=0.01\n",
    "div=term/step\n",
    "init=np.array([0.])\n",
    "repeat_time=5000#pass本数\n",
    "S=0\n",
    "time=10"
   ]
  },
  {
   "cell_type": "code",
   "execution_count": 82,
   "metadata": {
    "collapsed": true
   },
   "outputs": [],
   "source": [
    "mymodel = sde.SDE_Markov(mymat=np.array([[0.]]), myvar =np.array([[1.]]),myinit=np.array([1.]),myscale=1.,myterm=term,step_size=step)"
   ]
  },
  {
   "cell_type": "code",
   "execution_count": 83,
   "metadata": {
    "collapsed": true
   },
   "outputs": [],
   "source": [
    "time_s=0.3\n",
    "time_t=0.83\n",
    "time_t_box=np.zeros(repeat_time)\n",
    "time_s_box=np.zeros(repeat_time)\n",
    "time_ts_box=np.zeros(repeat_time)\n",
    "anderson=np.zeros(time)"
   ]
  },
  {
   "cell_type": "code",
   "execution_count": 84,
   "metadata": {
    "collapsed": false
   },
   "outputs": [
    {
     "name": "stderr",
     "output_type": "stream",
     "text": [
      "/Users/tamamoon/anaconda/lib/python3.5/site-packages/ipykernel/__main__.py:7: VisibleDeprecationWarning: using a non-integer number instead of an integer will result in an error in the future\n",
      "/Users/tamamoon/anaconda/lib/python3.5/site-packages/ipykernel/__main__.py:8: VisibleDeprecationWarning: using a non-integer number instead of an integer will result in an error in the future\n",
      "/Users/tamamoon/anaconda/lib/python3.5/site-packages/ipykernel/__main__.py:9: VisibleDeprecationWarning: using a non-integer number instead of an integer will result in an error in the future\n"
     ]
    },
    {
     "name": "stdout",
     "output_type": "stream",
     "text": [
      "[ 2.05645343  0.87630875  1.01353968  0.89760686  0.6035169   0.28753696\n",
      "  0.40058534  1.62955252  0.59496264  0.39617127]\n",
      "0.875623435083\n",
      "0.293646689961\n"
     ]
    }
   ],
   "source": [
    "for j in range(time):\n",
    "    time_t_box=np.zeros(repeat_time)\n",
    "    time_s_box=np.zeros(repeat_time)\n",
    "    time_ts_box=np.zeros(repeat_time)\n",
    "    for k in range(repeat_time):\n",
    "        many_step = mymodel.many_step(now_position=init)\n",
    "        time_t_box[k]=many_step[0,time_t*div]\n",
    "        time_s_box[k]=many_step[0,time_s*div]\n",
    "        time_ts_box[k]=many_step[0,time_t*div]-many_step[0,time_s*div]\n",
    "    time_ts_box.sort()\n",
    "    time_ts_box.reshape(1,repeat_time)\n",
    "    cdf_box=np.zeros(repeat_time)\n",
    "    for k in range(repeat_time):\n",
    "        cdf_box[k]=norm.cdf(time_ts_box[k],0,np.sqrt(time_t-time_s))\n",
    "    static_box=np.zeros(repeat_time)\n",
    "    for k in range (repeat_time):\n",
    "        static_box[k]=(2*(k+1)-1)/repeat_time*(np.log(cdf_box[k])+np.log(1-cdf_box[repeat_time-1-k]))\n",
    "    A=-repeat_time-sum(static_box)\n",
    "    #print(A)\n",
    "    anderson[j]=A\n",
    "print(anderson)\n",
    "mean=np.mean(anderson)\n",
    "print(mean)\n",
    "Var=np.var(anderson)\n",
    "print(Var)"
   ]
  },
  {
   "cell_type": "code",
   "execution_count": 55,
   "metadata": {
    "collapsed": false
   },
   "outputs": [
    {
     "data": {
      "text/plain": [
       "1"
      ]
     },
     "execution_count": 55,
     "metadata": {},
     "output_type": "execute_result"
    }
   ],
   "source": [
    "1"
   ]
  },
  {
   "cell_type": "code",
   "execution_count": null,
   "metadata": {
    "collapsed": true
   },
   "outputs": [],
   "source": []
  }
 ],
 "metadata": {
  "kernelspec": {
   "display_name": "Python [Root]",
   "language": "python",
   "name": "Python [Root]"
  },
  "language_info": {
   "codemirror_mode": {
    "name": "ipython",
    "version": 3
   },
   "file_extension": ".py",
   "mimetype": "text/x-python",
   "name": "python",
   "nbconvert_exporter": "python",
   "pygments_lexer": "ipython3",
   "version": "3.5.2"
  }
 },
 "nbformat": 4,
 "nbformat_minor": 0
}
