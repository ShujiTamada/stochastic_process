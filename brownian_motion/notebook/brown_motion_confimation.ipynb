{
 "cells": [
  {
   "cell_type": "code",
   "execution_count": 2,
   "metadata": {
    "collapsed": false
   },
   "outputs": [],
   "source": [
    "import sys\n",
    "sys.path.append(\"../src\")#ファイル読み込み\n",
    "sys.path.append(\"../data\")#ファイル読み込み\n",
    "sys.path.append(\"../fig\")#ファイル読み込み\n",
    "import SDE_class as sde\n",
    "import brown_motion as bmt\n",
    "import importlib #リロード呼ぶ関数\n",
    "importlib.reload(sde)\n",
    "importlib.reload(bmt)\n",
    "import numpy as np\n",
    "from matplotlib import pyplot as plt\n",
    "%matplotlib inline\n",
    "import util as util\n",
    "import math\n",
    "from scipy.stats import norm\n",
    "import argparse\n",
    "import pdb\n",
    "import os"
   ]
  },
  {
   "cell_type": "code",
   "execution_count": null,
   "metadata": {
    "collapsed": false
   },
   "outputs": [],
   "source": [
    "#def main():\n",
    "    #SDE_Markov variation_number\n",
    "term=1#terminal_time\n",
    "step=0.001#step_size\n",
    "div=term/step#jump_number\n",
    "init=np.array([0.])#init_value\n",
    "\n",
    "    #brown_motion_tranceform variation_number\n",
    "    #matrix=\n",
    "    #mat_noise=\n",
    "    #var_matrix=\n",
    "mean=0\n",
    "variance=1\n",
    "\n",
    "repeat_time=3\n",
    "\n",
    "\n",
    "sdekey={}\n",
    "sdekey['default'] = False\n",
    "sdekey['init'] = init\n",
    "sdekey['stepsize'] = step\n",
    "sdekey['term'] = term\n",
    "\n",
    "sdekey['mat'] = np.array([[1.]])\n",
    "    #sdekey['mat_noise'] = 1.0\n",
    "sdekey['var_matrix'] = np.array([[1.]])\n",
    "sdekey['n_mean'] = mean\n",
    "sdekey['n_scale'] = variance\n",
    "\n",
    "\n",
    "mymodel = sde.SDE_Markov(**sdekey)\n",
    "simulate=bmt.brown_motion(**sdekey)\n",
    "times,trajectry_box,qv_box=simulate.many_step()\n",
    "    #transform_matrix_step=np.array([[0.]]),transform_matrix_noise=np.array([[1.]]),noise_var_matrix,terminal,\\\n",
    "    #deltaT,division,normal_mean,normalscale,dimen,init\n",
    "\n",
    "all_trajectory=np.zeros([repeat_time,div+1])\n",
    "for k in range(repeat_time):\n",
    "    simulate.brown_motion_Doob_mayer()\n",
    "    times,trajectry_box,qv_box=simulate.brown_motion_Doob_mayer()\n",
    "    all_trajectory[k,:]=trajectry_box\n",
    "print(all_trajectory)\n",
    "np.mean(all_trajectory[:,div])\n",
    "    \n",
    "#for k in range(10):\n",
    "    #times,trajectry_box,qv_box=simulate.brown_motion_nomal()\n",
    "    #plt.plot(times[0],trajectry_box[0])\n",
    "    #plt.plot(times[0],qv_box[0])\n",
    "\n"
   ]
  },
  {
   "cell_type": "code",
   "execution_count": null,
   "metadata": {
    "collapsed": false
   },
   "outputs": [],
   "source": []
  },
  {
   "cell_type": "code",
   "execution_count": null,
   "metadata": {
    "collapsed": true
   },
   "outputs": [],
   "source": []
  }
 ],
 "metadata": {
  "anaconda-cloud": {},
  "kernelspec": {
   "display_name": "Python [Root]",
   "language": "python",
   "name": "Python [Root]"
  },
  "language_info": {
   "codemirror_mode": {
    "name": "ipython",
    "version": 3
   },
   "file_extension": ".py",
   "mimetype": "text/x-python",
   "name": "python",
   "nbconvert_exporter": "python",
   "pygments_lexer": "ipython3",
   "version": "3.5.2"
  }
 },
 "nbformat": 4,
 "nbformat_minor": 0
}
