{
 "cells": [
  {
   "cell_type": "code",
   "execution_count": 1,
   "metadata": {
    "collapsed": false
   },
   "outputs": [
    {
     "data": {
      "text/plain": [
       "<module 'util' from '../src/util.py'>"
      ]
     },
     "execution_count": 1,
     "metadata": {},
     "output_type": "execute_result"
    }
   ],
   "source": [
    "import sys\n",
    "sys.path.append(\"../src\") \n",
    "sys.path.append(\"../data\") \n",
    "\n",
    "\n",
    "import SDE_class as sde\n",
    "import importlib\n",
    "importlib.reload(sde)\n",
    "import numpy as np\n",
    "from matplotlib import pyplot as plt\n",
    "%matplotlib inline\n",
    "import util as util\n",
    "importlib.reload(util)"
   ]
  },
  {
   "cell_type": "code",
   "execution_count": 2,
   "metadata": {
    "collapsed": true
   },
   "outputs": [],
   "source": [
    "term=5\n",
    "step=1\n",
    "init=np.array([0.])\n",
    "repeat_number=1"
   ]
  },
  {
   "cell_type": "code",
   "execution_count": 3,
   "metadata": {
    "collapsed": true
   },
   "outputs": [],
   "source": [
    "mymodel = sde.SDE_Markov(mymat=np.array([[0.]]), myvar =np.array([[1.]]),myinit=np.array([1.]),myscale=1.,myterm=term,step_size=step)"
   ]
  },
  {
   "cell_type": "code",
   "execution_count": 4,
   "metadata": {
    "collapsed": false
   },
   "outputs": [],
   "source": [
    "term=7\n",
    "step=1\n",
    "now_position=np.array([0.])\n",
    "repeat_number=30000\n",
    "matrix=np.zeros([term+1,repeat_number+1])\n",
    "\n",
    "for j in range(repeat_number):\n",
    "    now_position=np.array([0])\n",
    "    for k in range(term):\n",
    "        new_position = mymodel.one_step(now_position)\n",
    "        matrix[k+1,j+1]=new_position\n",
    "        now_position = new_position\n",
    "#print(matrix)"
   ]
  },
  {
   "cell_type": "code",
   "execution_count": 5,
   "metadata": {
    "collapsed": false
   },
   "outputs": [
    {
     "name": "stdout",
     "output_type": "stream",
     "text": [
      "[[ 0.          0.          0.          0.          0.          0.          0.\n",
      "   0.        ]\n",
      " [ 0.          0.99211999  0.9921902   0.99764249  1.00168013  0.99835039\n",
      "   0.9875407   0.9797193 ]\n",
      " [ 0.          0.9921902   1.99744813  2.00560898  2.01524654  2.00887927\n",
      "   1.99238368  1.98388865]\n",
      " [ 0.          0.99764249  2.00560898  3.00011272  3.01586967  3.01681054\n",
      "   3.00818131  3.00206265]\n",
      " [ 0.          1.00168013  2.01524654  3.01586967  4.03510949  4.03322991\n",
      "   4.01505486  4.00462022]\n",
      " [ 0.          0.99835039  2.00887927  3.01681054  4.03322991  5.02676434\n",
      "   5.0107269   5.00976949]\n",
      " [ 0.          0.9875407   1.99238368  3.00818131  4.01505486  5.0107269\n",
      "   5.99415301  5.98917591]\n",
      " [ 0.          0.9797193   1.98388865  3.00206265  4.00462022  5.00976949\n",
      "   5.98917591  6.98092653]]\n"
     ]
    }
   ],
   "source": [
    "cov_matrix=np.zeros([term+1,term+1])\n",
    "for j in range(term+1):\n",
    "    for k in range(term+1):\n",
    "        mean_j=np.mean(matrix[j,:])\n",
    "        mean_k=np.mean(matrix[k,:])\n",
    "        mean_jk=(np.dot(matrix[j,:],matrix[k,:]))/repeat_number\n",
    "        cov=mean_jk-mean_k*mean_j\n",
    "        cov_matrix[j,k]=cov\n",
    "print(cov_matrix)\n"
   ]
  },
  {
   "cell_type": "code",
   "execution_count": 6,
   "metadata": {
    "collapsed": false
   },
   "outputs": [
    {
     "data": {
      "text/plain": [
       "<matplotlib.image.AxesImage at 0x10f8b4ba8>"
      ]
     },
     "execution_count": 6,
     "metadata": {},
     "output_type": "execute_result"
    },
    {
     "data": {
      "image/png": "[encoded data removed]",
      "text/plain": [
       "<matplotlib.figure.Figure at 0x10d1a5668>"
      ]
     },
     "metadata": {},
     "output_type": "display_data"
    }
   ],
   "source": [
    "plt.imshow(cov_matrix, interpolation = \"None\")"
   ]
  },
  {
   "cell_type": "code",
   "execution_count": null,
   "metadata": {
    "collapsed": false
   },
   "outputs": [],
   "source": []
  },
  {
   "cell_type": "code",
   "execution_count": null,
   "metadata": {
    "collapsed": true
   },
   "outputs": [],
   "source": []
  },
  {
   "cell_type": "code",
   "execution_count": null,
   "metadata": {
    "collapsed": true
   },
   "outputs": [],
   "source": []
  },
  {
   "cell_type": "code",
   "execution_count": null,
   "metadata": {
    "collapsed": true
   },
   "outputs": [],
   "source": []
  }
 ],
 "metadata": {
  "anaconda-cloud": {},
  "kernelspec": {
   "display_name": "Python [Root]",
   "language": "python",
   "name": "Python [Root]"
  },
  "language_info": {
   "codemirror_mode": {
    "name": "ipython",
    "version": 3
   },
   "file_extension": ".py",
   "mimetype": "text/x-python",
   "name": "python",
   "nbconvert_exporter": "python",
   "pygments_lexer": "ipython3",
   "version": "3.5.2"
  }
 },
 "nbformat": 4,
 "nbformat_minor": 0
}
